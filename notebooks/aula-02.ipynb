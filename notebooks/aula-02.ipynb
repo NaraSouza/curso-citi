{
 "cells": [
  {
   "cell_type": "markdown",
   "metadata": {},
   "source": [
    "## Estruturas de Controle"
   ]
  },
  {
   "cell_type": "markdown",
   "metadata": {},
   "source": [
    "Maioridade"
   ]
  },
  {
   "cell_type": "code",
   "execution_count": 1,
   "metadata": {
    "collapsed": false
   },
   "outputs": [
    {
     "name": "stdout",
     "output_type": "stream",
     "text": [
      "Qual a sua idade?28\n"
     ]
    }
   ],
   "source": [
    "idade = input(\"Qual a sua idade? \")\n",
    "idade = int(idade)"
   ]
  },
  {
   "cell_type": "code",
   "execution_count": 2,
   "metadata": {
    "collapsed": false
   },
   "outputs": [
    {
     "name": "stdout",
     "output_type": "stream",
     "text": [
      "Já pode beber\n"
     ]
    }
   ],
   "source": [
    "if idade >= 18:\n",
    "    print(\"Já pode beber\")\n",
    "else:\n",
    "    print(\"Fica no suquinho\")"
   ]
  },
  {
   "cell_type": "markdown",
   "metadata": {},
   "source": [
    "Dota 2 MMR"
   ]
  },
  {
   "cell_type": "code",
   "execution_count": 3,
   "metadata": {
    "collapsed": false
   },
   "outputs": [
    {
     "name": "stdout",
     "output_type": "stream",
     "text": [
      "Qual o teu MMR? 3800\n"
     ]
    }
   ],
   "source": [
    "mmr = input(\"Qual o teu MMR? \")\n",
    "mmr = int(mmr)"
   ]
  },
  {
   "cell_type": "code",
   "execution_count": 5,
   "metadata": {
    "collapsed": false
   },
   "outputs": [
    {
     "name": "stdout",
     "output_type": "stream",
     "text": [
      "Very high skill\n"
     ]
    }
   ],
   "source": [
    "if mmr < 3200:\n",
    "    print(\"Normal skill\")\n",
    "elif mmr >= 3200 and mmr < 3700:\n",
    "    print(\"High skill\")\n",
    "else:\n",
    "    print(\"Very high skill\")"
   ]
  },
  {
   "cell_type": "code",
   "execution_count": null,
   "metadata": {
    "collapsed": true
   },
   "outputs": [],
   "source": []
  }
 ],
 "metadata": {
  "kernelspec": {
   "display_name": "Python 3",
   "language": "python",
   "name": "python3"
  },
  "language_info": {
   "codemirror_mode": {
    "name": "ipython",
    "version": 3
   },
   "file_extension": ".py",
   "mimetype": "text/x-python",
   "name": "python",
   "nbconvert_exporter": "python",
   "pygments_lexer": "ipython3",
   "version": "3.5.1"
  }
 },
 "nbformat": 4,
 "nbformat_minor": 0
}
